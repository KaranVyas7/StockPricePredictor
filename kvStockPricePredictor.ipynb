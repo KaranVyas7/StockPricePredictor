{
  "cells": [
    {
      "cell_type": "markdown",
      "metadata": {
        "id": "view-in-github",
        "colab_type": "text"
      },
      "source": [
        "<a href=\"https://colab.research.google.com/github/KaranVyas7/StockPricePredictor/blob/main/kvStockPricePredictor.ipynb\" target=\"_parent\"><img src=\"https://colab.research.google.com/assets/colab-badge.svg\" alt=\"Open In Colab\"/></a>"
      ]
    },
    {
      "cell_type": "code",
      "execution_count": null,
      "metadata": {
        "colab": {
          "base_uri": "https://localhost:8080/"
        },
        "id": "XIH8dtw2GRy3",
        "outputId": "9fd9a19f-f0b8-4483-e5aa-caa4a2c516d6"
      },
      "outputs": [
        {
          "name": "stdout",
          "output_type": "stream",
          "text": [
            "Requirement already satisfied: yfinance in /usr/local/lib/python3.10/dist-packages (0.2.33)\n",
            "Requirement already satisfied: pandas>=1.3.0 in /usr/local/lib/python3.10/dist-packages (from yfinance) (1.5.3)\n",
            "Requirement already satisfied: numpy>=1.16.5 in /usr/local/lib/python3.10/dist-packages (from yfinance) (1.23.5)\n",
            "Requirement already satisfied: requests>=2.31 in /usr/local/lib/python3.10/dist-packages (from yfinance) (2.31.0)\n",
            "Requirement already satisfied: multitasking>=0.0.7 in /usr/local/lib/python3.10/dist-packages (from yfinance) (0.0.11)\n",
            "Requirement already satisfied: lxml>=4.9.1 in /usr/local/lib/python3.10/dist-packages (from yfinance) (4.9.3)\n",
            "Requirement already satisfied: appdirs>=1.4.4 in /usr/local/lib/python3.10/dist-packages (from yfinance) (1.4.4)\n",
            "Requirement already satisfied: pytz>=2022.5 in /usr/local/lib/python3.10/dist-packages (from yfinance) (2023.3.post1)\n",
            "Requirement already satisfied: frozendict>=2.3.4 in /usr/local/lib/python3.10/dist-packages (from yfinance) (2.3.10)\n",
            "Requirement already satisfied: peewee>=3.16.2 in /usr/local/lib/python3.10/dist-packages (from yfinance) (3.17.0)\n",
            "Requirement already satisfied: beautifulsoup4>=4.11.1 in /usr/local/lib/python3.10/dist-packages (from yfinance) (4.11.2)\n",
            "Requirement already satisfied: html5lib>=1.1 in /usr/local/lib/python3.10/dist-packages (from yfinance) (1.1)\n",
            "Requirement already satisfied: soupsieve>1.2 in /usr/local/lib/python3.10/dist-packages (from beautifulsoup4>=4.11.1->yfinance) (2.5)\n",
            "Requirement already satisfied: six>=1.9 in /usr/local/lib/python3.10/dist-packages (from html5lib>=1.1->yfinance) (1.16.0)\n",
            "Requirement already satisfied: webencodings in /usr/local/lib/python3.10/dist-packages (from html5lib>=1.1->yfinance) (0.5.1)\n",
            "Requirement already satisfied: python-dateutil>=2.8.1 in /usr/local/lib/python3.10/dist-packages (from pandas>=1.3.0->yfinance) (2.8.2)\n",
            "Requirement already satisfied: charset-normalizer<4,>=2 in /usr/local/lib/python3.10/dist-packages (from requests>=2.31->yfinance) (3.3.2)\n",
            "Requirement already satisfied: idna<4,>=2.5 in /usr/local/lib/python3.10/dist-packages (from requests>=2.31->yfinance) (3.6)\n",
            "Requirement already satisfied: urllib3<3,>=1.21.1 in /usr/local/lib/python3.10/dist-packages (from requests>=2.31->yfinance) (2.0.7)\n",
            "Requirement already satisfied: certifi>=2017.4.17 in /usr/local/lib/python3.10/dist-packages (from requests>=2.31->yfinance) (2023.11.17)\n"
          ]
        }
      ],
      "source": [
        "# To get the data, we need to install the yfinance library. Yfinance provides us with a means to access market data from Yahoo.\n",
        "!pip install yfinance"
      ]
    },
    {
      "cell_type": "code",
      "execution_count": null,
      "metadata": {
        "id": "G7K-rE_dGm17"
      },
      "outputs": [],
      "source": [
        "# Importing libraries\n",
        "import pandas as pd # Pandas is a library that allows us to store our data into dataframes (tables) and manipulate our data\n",
        "import numpy as np # Numpy is a library that allows us to work with arrays and matricies\n",
        "import matplotlib.pyplot as plt # Plotting library\n",
        "import seaborn as sns # Plotting library\n",
        "\n",
        "# Importing the deep learning libraries\n",
        "import tensorflow as tf\n",
        "from tensorflow import keras\n",
        "from keras import Input\n",
        "from keras.models import Sequential\n",
        "from keras.layers import Dense, Dropout, SimpleRNN, LSTM, GRU\n",
        "\n",
        "# Importing other libraries\n",
        "import yfinance as yf # Yfinance will provide an API to access the current stock market data\n",
        "from sklearn.model_selection import train_test_split # Scikit-Learn is a huge Machine Learning Library for classical ML.\n",
        "\n",
        "%matplotlib inline"
      ]
    },
    {
      "cell_type": "code",
      "execution_count": null,
      "metadata": {
        "colab": {
          "base_uri": "https://localhost:8080/",
          "height": 442
        },
        "id": "pCDujbhUGq6R",
        "outputId": "7ebe94ff-0d44-458c-8ac2-64455e68179b"
      },
      "outputs": [
        {
          "data": {
            "text/html": [
              "\n",
              "  <div id=\"df-e711703d-a321-45b2-af0d-2a05bdb4a83f\" class=\"colab-df-container\">\n",
              "    <div>\n",
              "<style scoped>\n",
              "    .dataframe tbody tr th:only-of-type {\n",
              "        vertical-align: middle;\n",
              "    }\n",
              "\n",
              "    .dataframe tbody tr th {\n",
              "        vertical-align: top;\n",
              "    }\n",
              "\n",
              "    .dataframe thead th {\n",
              "        text-align: right;\n",
              "    }\n",
              "</style>\n",
              "<table border=\"1\" class=\"dataframe\">\n",
              "  <thead>\n",
              "    <tr style=\"text-align: right;\">\n",
              "      <th></th>\n",
              "      <th>Open</th>\n",
              "      <th>High</th>\n",
              "      <th>Low</th>\n",
              "      <th>Close</th>\n",
              "      <th>Volume</th>\n",
              "      <th>Dividends</th>\n",
              "      <th>Stock Splits</th>\n",
              "    </tr>\n",
              "    <tr>\n",
              "      <th>Date</th>\n",
              "      <th></th>\n",
              "      <th></th>\n",
              "      <th></th>\n",
              "      <th></th>\n",
              "      <th></th>\n",
              "      <th></th>\n",
              "      <th></th>\n",
              "    </tr>\n",
              "  </thead>\n",
              "  <tbody>\n",
              "    <tr>\n",
              "      <th>1980-12-12 00:00:00-05:00</th>\n",
              "      <td>0.099319</td>\n",
              "      <td>0.099750</td>\n",
              "      <td>0.099319</td>\n",
              "      <td>0.099319</td>\n",
              "      <td>469033600</td>\n",
              "      <td>0.0</td>\n",
              "      <td>0.0</td>\n",
              "    </tr>\n",
              "    <tr>\n",
              "      <th>1980-12-15 00:00:00-05:00</th>\n",
              "      <td>0.094569</td>\n",
              "      <td>0.094569</td>\n",
              "      <td>0.094137</td>\n",
              "      <td>0.094137</td>\n",
              "      <td>175884800</td>\n",
              "      <td>0.0</td>\n",
              "      <td>0.0</td>\n",
              "    </tr>\n",
              "    <tr>\n",
              "      <th>1980-12-16 00:00:00-05:00</th>\n",
              "      <td>0.087659</td>\n",
              "      <td>0.087659</td>\n",
              "      <td>0.087228</td>\n",
              "      <td>0.087228</td>\n",
              "      <td>105728000</td>\n",
              "      <td>0.0</td>\n",
              "      <td>0.0</td>\n",
              "    </tr>\n",
              "    <tr>\n",
              "      <th>1980-12-17 00:00:00-05:00</th>\n",
              "      <td>0.089387</td>\n",
              "      <td>0.089818</td>\n",
              "      <td>0.089387</td>\n",
              "      <td>0.089387</td>\n",
              "      <td>86441600</td>\n",
              "      <td>0.0</td>\n",
              "      <td>0.0</td>\n",
              "    </tr>\n",
              "    <tr>\n",
              "      <th>1980-12-18 00:00:00-05:00</th>\n",
              "      <td>0.091978</td>\n",
              "      <td>0.092410</td>\n",
              "      <td>0.091978</td>\n",
              "      <td>0.091978</td>\n",
              "      <td>73449600</td>\n",
              "      <td>0.0</td>\n",
              "      <td>0.0</td>\n",
              "    </tr>\n",
              "    <tr>\n",
              "      <th>...</th>\n",
              "      <td>...</td>\n",
              "      <td>...</td>\n",
              "      <td>...</td>\n",
              "      <td>...</td>\n",
              "      <td>...</td>\n",
              "      <td>...</td>\n",
              "      <td>...</td>\n",
              "    </tr>\n",
              "    <tr>\n",
              "      <th>2023-12-21 00:00:00-05:00</th>\n",
              "      <td>196.100006</td>\n",
              "      <td>197.080002</td>\n",
              "      <td>193.500000</td>\n",
              "      <td>194.679993</td>\n",
              "      <td>46482500</td>\n",
              "      <td>0.0</td>\n",
              "      <td>0.0</td>\n",
              "    </tr>\n",
              "    <tr>\n",
              "      <th>2023-12-22 00:00:00-05:00</th>\n",
              "      <td>195.179993</td>\n",
              "      <td>195.410004</td>\n",
              "      <td>192.970001</td>\n",
              "      <td>193.600006</td>\n",
              "      <td>37122800</td>\n",
              "      <td>0.0</td>\n",
              "      <td>0.0</td>\n",
              "    </tr>\n",
              "    <tr>\n",
              "      <th>2023-12-26 00:00:00-05:00</th>\n",
              "      <td>193.610001</td>\n",
              "      <td>193.889999</td>\n",
              "      <td>192.830002</td>\n",
              "      <td>193.050003</td>\n",
              "      <td>28919300</td>\n",
              "      <td>0.0</td>\n",
              "      <td>0.0</td>\n",
              "    </tr>\n",
              "    <tr>\n",
              "      <th>2023-12-27 00:00:00-05:00</th>\n",
              "      <td>192.490005</td>\n",
              "      <td>193.500000</td>\n",
              "      <td>191.089996</td>\n",
              "      <td>193.149994</td>\n",
              "      <td>48053800</td>\n",
              "      <td>0.0</td>\n",
              "      <td>0.0</td>\n",
              "    </tr>\n",
              "    <tr>\n",
              "      <th>2023-12-28 00:00:00-05:00</th>\n",
              "      <td>194.139999</td>\n",
              "      <td>194.659897</td>\n",
              "      <td>193.589996</td>\n",
              "      <td>193.929001</td>\n",
              "      <td>19608264</td>\n",
              "      <td>0.0</td>\n",
              "      <td>0.0</td>\n",
              "    </tr>\n",
              "  </tbody>\n",
              "</table>\n",
              "<p>10852 rows × 7 columns</p>\n",
              "</div>\n",
              "    <div class=\"colab-df-buttons\">\n",
              "\n",
              "  <div class=\"colab-df-container\">\n",
              "    <button class=\"colab-df-convert\" onclick=\"convertToInteractive('df-e711703d-a321-45b2-af0d-2a05bdb4a83f')\"\n",
              "            title=\"Convert this dataframe to an interactive table.\"\n",
              "            style=\"display:none;\">\n",
              "\n",
              "  <svg xmlns=\"http://www.w3.org/2000/svg\" height=\"24px\" viewBox=\"0 -960 960 960\">\n",
              "    <path d=\"M120-120v-720h720v720H120Zm60-500h600v-160H180v160Zm220 220h160v-160H400v160Zm0 220h160v-160H400v160ZM180-400h160v-160H180v160Zm440 0h160v-160H620v160ZM180-180h160v-160H180v160Zm440 0h160v-160H620v160Z\"/>\n",
              "  </svg>\n",
              "    </button>\n",
              "\n",
              "  <style>\n",
              "    .colab-df-container {\n",
              "      display:flex;\n",
              "      gap: 12px;\n",
              "    }\n",
              "\n",
              "    .colab-df-convert {\n",
              "      background-color: #E8F0FE;\n",
              "      border: none;\n",
              "      border-radius: 50%;\n",
              "      cursor: pointer;\n",
              "      display: none;\n",
              "      fill: #1967D2;\n",
              "      height: 32px;\n",
              "      padding: 0 0 0 0;\n",
              "      width: 32px;\n",
              "    }\n",
              "\n",
              "    .colab-df-convert:hover {\n",
              "      background-color: #E2EBFA;\n",
              "      box-shadow: 0px 1px 2px rgba(60, 64, 67, 0.3), 0px 1px 3px 1px rgba(60, 64, 67, 0.15);\n",
              "      fill: #174EA6;\n",
              "    }\n",
              "\n",
              "    .colab-df-buttons div {\n",
              "      margin-bottom: 4px;\n",
              "    }\n",
              "\n",
              "    [theme=dark] .colab-df-convert {\n",
              "      background-color: #3B4455;\n",
              "      fill: #D2E3FC;\n",
              "    }\n",
              "\n",
              "    [theme=dark] .colab-df-convert:hover {\n",
              "      background-color: #434B5C;\n",
              "      box-shadow: 0px 1px 3px 1px rgba(0, 0, 0, 0.15);\n",
              "      filter: drop-shadow(0px 1px 2px rgba(0, 0, 0, 0.3));\n",
              "      fill: #FFFFFF;\n",
              "    }\n",
              "  </style>\n",
              "\n",
              "    <script>\n",
              "      const buttonEl =\n",
              "        document.querySelector('#df-e711703d-a321-45b2-af0d-2a05bdb4a83f button.colab-df-convert');\n",
              "      buttonEl.style.display =\n",
              "        google.colab.kernel.accessAllowed ? 'block' : 'none';\n",
              "\n",
              "      async function convertToInteractive(key) {\n",
              "        const element = document.querySelector('#df-e711703d-a321-45b2-af0d-2a05bdb4a83f');\n",
              "        const dataTable =\n",
              "          await google.colab.kernel.invokeFunction('convertToInteractive',\n",
              "                                                    [key], {});\n",
              "        if (!dataTable) return;\n",
              "\n",
              "        const docLinkHtml = 'Like what you see? Visit the ' +\n",
              "          '<a target=\"_blank\" href=https://colab.research.google.com/notebooks/data_table.ipynb>data table notebook</a>'\n",
              "          + ' to learn more about interactive tables.';\n",
              "        element.innerHTML = '';\n",
              "        dataTable['output_type'] = 'display_data';\n",
              "        await google.colab.output.renderOutput(dataTable, element);\n",
              "        const docLink = document.createElement('div');\n",
              "        docLink.innerHTML = docLinkHtml;\n",
              "        element.appendChild(docLink);\n",
              "      }\n",
              "    </script>\n",
              "  </div>\n",
              "\n",
              "\n",
              "<div id=\"df-bc9cd0ed-539c-4286-b92d-8ff80e7f5f7a\">\n",
              "  <button class=\"colab-df-quickchart\" onclick=\"quickchart('df-bc9cd0ed-539c-4286-b92d-8ff80e7f5f7a')\"\n",
              "            title=\"Suggest charts\"\n",
              "            style=\"display:none;\">\n",
              "\n",
              "<svg xmlns=\"http://www.w3.org/2000/svg\" height=\"24px\"viewBox=\"0 0 24 24\"\n",
              "     width=\"24px\">\n",
              "    <g>\n",
              "        <path d=\"M19 3H5c-1.1 0-2 .9-2 2v14c0 1.1.9 2 2 2h14c1.1 0 2-.9 2-2V5c0-1.1-.9-2-2-2zM9 17H7v-7h2v7zm4 0h-2V7h2v10zm4 0h-2v-4h2v4z\"/>\n",
              "    </g>\n",
              "</svg>\n",
              "  </button>\n",
              "\n",
              "<style>\n",
              "  .colab-df-quickchart {\n",
              "      --bg-color: #E8F0FE;\n",
              "      --fill-color: #1967D2;\n",
              "      --hover-bg-color: #E2EBFA;\n",
              "      --hover-fill-color: #174EA6;\n",
              "      --disabled-fill-color: #AAA;\n",
              "      --disabled-bg-color: #DDD;\n",
              "  }\n",
              "\n",
              "  [theme=dark] .colab-df-quickchart {\n",
              "      --bg-color: #3B4455;\n",
              "      --fill-color: #D2E3FC;\n",
              "      --hover-bg-color: #434B5C;\n",
              "      --hover-fill-color: #FFFFFF;\n",
              "      --disabled-bg-color: #3B4455;\n",
              "      --disabled-fill-color: #666;\n",
              "  }\n",
              "\n",
              "  .colab-df-quickchart {\n",
              "    background-color: var(--bg-color);\n",
              "    border: none;\n",
              "    border-radius: 50%;\n",
              "    cursor: pointer;\n",
              "    display: none;\n",
              "    fill: var(--fill-color);\n",
              "    height: 32px;\n",
              "    padding: 0;\n",
              "    width: 32px;\n",
              "  }\n",
              "\n",
              "  .colab-df-quickchart:hover {\n",
              "    background-color: var(--hover-bg-color);\n",
              "    box-shadow: 0 1px 2px rgba(60, 64, 67, 0.3), 0 1px 3px 1px rgba(60, 64, 67, 0.15);\n",
              "    fill: var(--button-hover-fill-color);\n",
              "  }\n",
              "\n",
              "  .colab-df-quickchart-complete:disabled,\n",
              "  .colab-df-quickchart-complete:disabled:hover {\n",
              "    background-color: var(--disabled-bg-color);\n",
              "    fill: var(--disabled-fill-color);\n",
              "    box-shadow: none;\n",
              "  }\n",
              "\n",
              "  .colab-df-spinner {\n",
              "    border: 2px solid var(--fill-color);\n",
              "    border-color: transparent;\n",
              "    border-bottom-color: var(--fill-color);\n",
              "    animation:\n",
              "      spin 1s steps(1) infinite;\n",
              "  }\n",
              "\n",
              "  @keyframes spin {\n",
              "    0% {\n",
              "      border-color: transparent;\n",
              "      border-bottom-color: var(--fill-color);\n",
              "      border-left-color: var(--fill-color);\n",
              "    }\n",
              "    20% {\n",
              "      border-color: transparent;\n",
              "      border-left-color: var(--fill-color);\n",
              "      border-top-color: var(--fill-color);\n",
              "    }\n",
              "    30% {\n",
              "      border-color: transparent;\n",
              "      border-left-color: var(--fill-color);\n",
              "      border-top-color: var(--fill-color);\n",
              "      border-right-color: var(--fill-color);\n",
              "    }\n",
              "    40% {\n",
              "      border-color: transparent;\n",
              "      border-right-color: var(--fill-color);\n",
              "      border-top-color: var(--fill-color);\n",
              "    }\n",
              "    60% {\n",
              "      border-color: transparent;\n",
              "      border-right-color: var(--fill-color);\n",
              "    }\n",
              "    80% {\n",
              "      border-color: transparent;\n",
              "      border-right-color: var(--fill-color);\n",
              "      border-bottom-color: var(--fill-color);\n",
              "    }\n",
              "    90% {\n",
              "      border-color: transparent;\n",
              "      border-bottom-color: var(--fill-color);\n",
              "    }\n",
              "  }\n",
              "</style>\n",
              "\n",
              "  <script>\n",
              "    async function quickchart(key) {\n",
              "      const quickchartButtonEl =\n",
              "        document.querySelector('#' + key + ' button');\n",
              "      quickchartButtonEl.disabled = true;  // To prevent multiple clicks.\n",
              "      quickchartButtonEl.classList.add('colab-df-spinner');\n",
              "      try {\n",
              "        const charts = await google.colab.kernel.invokeFunction(\n",
              "            'suggestCharts', [key], {});\n",
              "      } catch (error) {\n",
              "        console.error('Error during call to suggestCharts:', error);\n",
              "      }\n",
              "      quickchartButtonEl.classList.remove('colab-df-spinner');\n",
              "      quickchartButtonEl.classList.add('colab-df-quickchart-complete');\n",
              "    }\n",
              "    (() => {\n",
              "      let quickchartButtonEl =\n",
              "        document.querySelector('#df-bc9cd0ed-539c-4286-b92d-8ff80e7f5f7a button');\n",
              "      quickchartButtonEl.style.display =\n",
              "        google.colab.kernel.accessAllowed ? 'block' : 'none';\n",
              "    })();\n",
              "  </script>\n",
              "</div>\n",
              "    </div>\n",
              "  </div>\n"
            ],
            "text/plain": [
              "                                 Open        High         Low       Close  \\\n",
              "Date                                                                        \n",
              "1980-12-12 00:00:00-05:00    0.099319    0.099750    0.099319    0.099319   \n",
              "1980-12-15 00:00:00-05:00    0.094569    0.094569    0.094137    0.094137   \n",
              "1980-12-16 00:00:00-05:00    0.087659    0.087659    0.087228    0.087228   \n",
              "1980-12-17 00:00:00-05:00    0.089387    0.089818    0.089387    0.089387   \n",
              "1980-12-18 00:00:00-05:00    0.091978    0.092410    0.091978    0.091978   \n",
              "...                               ...         ...         ...         ...   \n",
              "2023-12-21 00:00:00-05:00  196.100006  197.080002  193.500000  194.679993   \n",
              "2023-12-22 00:00:00-05:00  195.179993  195.410004  192.970001  193.600006   \n",
              "2023-12-26 00:00:00-05:00  193.610001  193.889999  192.830002  193.050003   \n",
              "2023-12-27 00:00:00-05:00  192.490005  193.500000  191.089996  193.149994   \n",
              "2023-12-28 00:00:00-05:00  194.139999  194.659897  193.589996  193.929001   \n",
              "\n",
              "                              Volume  Dividends  Stock Splits  \n",
              "Date                                                           \n",
              "1980-12-12 00:00:00-05:00  469033600        0.0           0.0  \n",
              "1980-12-15 00:00:00-05:00  175884800        0.0           0.0  \n",
              "1980-12-16 00:00:00-05:00  105728000        0.0           0.0  \n",
              "1980-12-17 00:00:00-05:00   86441600        0.0           0.0  \n",
              "1980-12-18 00:00:00-05:00   73449600        0.0           0.0  \n",
              "...                              ...        ...           ...  \n",
              "2023-12-21 00:00:00-05:00   46482500        0.0           0.0  \n",
              "2023-12-22 00:00:00-05:00   37122800        0.0           0.0  \n",
              "2023-12-26 00:00:00-05:00   28919300        0.0           0.0  \n",
              "2023-12-27 00:00:00-05:00   48053800        0.0           0.0  \n",
              "2023-12-28 00:00:00-05:00   19608264        0.0           0.0  \n",
              "\n",
              "[10852 rows x 7 columns]"
            ]
          },
          "execution_count": 32,
          "metadata": {},
          "output_type": "execute_result"
        }
      ],
      "source": [
        "# Getting the data\n",
        "company = 'AAPL' # This the company we are predicting the stock prices of. Feel free to change this.\n",
        "stock_data = yf.Ticker(company)\n",
        "\n",
        "# Getting the history of the stock\n",
        "stock_history = stock_data.history(period='max',interval='1d') # We are getting all the daily stock data.\n",
        "\n",
        "# Looking at what the data is\n",
        "stock_history"
      ]
    },
    {
      "cell_type": "code",
      "execution_count": null,
      "metadata": {
        "colab": {
          "background_save": true
        },
        "id": "Uqd6Me8nG0_0",
        "outputId": "1a297aea-b80c-461f-8966-2c9e73f6a868"
      },
      "outputs": [
        {
          "data": {
            "image/png": "[encoded data removed]",
            "text/plain": [
              "<Figure size 640x480 with 1 Axes>"
            ]
          },
          "metadata": {},
          "output_type": "display_data"
        }
      ],
      "source": [
        "# In our case, we want to predict the closing price of the stock.\n",
        "# Closing price is the price the stock is at when the stock market closes (5 PM EST)\n",
        "# Let's plot the closing price for Apple to see what the trend is\n",
        "closing_prices = stock_history['Close']\n",
        "plt.title(f'Closing Price of {company}')\n",
        "plt.xlabel('Date')\n",
        "plt.ylabel('Closing Price')\n",
        "plt.plot(closing_prices)\n",
        "plt.show()"
      ]
    },
    {
      "cell_type": "markdown",
      "metadata": {
        "id": "3q_LDUz1aK-W"
      },
      "source": [
        "Model Building\n",
        "---\n",
        "\n"
      ]
    },
    {
      "cell_type": "code",
      "execution_count": null,
      "metadata": {
        "id": "goB7CoSBG356"
      },
      "outputs": [],
      "source": [
        "# We need to split our data into training and testing\n",
        "# We need to split it for this one.\n",
        "# For this, we can utilize sklearn's train_test_split function that allows us to randomly split data\n",
        "# in a way that can build the best models\n",
        "training_data, testing_data = train_test_split(stock_history,test_size=0.2,random_state=42,shuffle=True)\n",
        "\n",
        "# Essentially, the line above tells us to perform a 80/20 train/test split. We want to keep some data for testing,\n",
        "# The random_state parameter ensures that our split is the same each time we run this notebook"
      ]
    },
    {
      "cell_type": "code",
      "execution_count": null,
      "metadata": {
        "id": "JnkuOeQ6G9xu"
      },
      "outputs": [],
      "source": [
        "# Splitting the training data into X and y\n",
        "X_train = training_data.drop(['Close','Volume','Dividends','Stock Splits'],axis=1)\n",
        "y_train = training_data['Close']\n",
        "\n",
        "# Splitting the testing data into X and y\n",
        "X_test = testing_data.drop(['Close','Volume','Dividends','Stock Splits'],axis=1)\n",
        "y_test = testing_data['Close']"
      ]
    },
    {
      "cell_type": "markdown",
      "metadata": {
        "id": "gPaqS8JMaehF"
      },
      "source": [
        "### Artificial Neural Network: Base Model\n"
      ]
    },
    {
      "cell_type": "code",
      "execution_count": null,
      "metadata": {
        "colab": {
          "base_uri": "https://localhost:8080/"
        },
        "id": "ygL2HbwhHAYi",
        "outputId": "f50fd1a9-b13a-41af-a04a-24aa3360cf19"
      },
      "outputs": [
        {
          "name": "stdout",
          "output_type": "stream",
          "text": [
            "Model: \"sequential\"\n",
            "_________________________________________________________________\n",
            " Layer (type)                Output Shape              Param #   \n",
            "=================================================================\n",
            " dense (Dense)               (None, 3, 25)             50        \n",
            "                                                                 \n",
            " dropout (Dropout)           (None, 3, 25)             0         \n",
            "                                                                 \n",
            " dense_1 (Dense)             (None, 3, 50)             1300      \n",
            "                                                                 \n",
            " dropout_1 (Dropout)         (None, 3, 50)             0         \n",
            "                                                                 \n",
            " dense_2 (Dense)             (None, 3, 25)             1275      \n",
            "                                                                 \n",
            " dense_3 (Dense)             (None, 3, 1)              26        \n",
            "                                                                 \n",
            "=================================================================\n",
            "Total params: 2651 (10.36 KB)\n",
            "Trainable params: 2651 (10.36 KB)\n",
            "Non-trainable params: 0 (0.00 Byte)\n",
            "_________________________________________________________________\n"
          ]
        }
      ],
      "source": [
        "# Building the model\n",
        "ann_model = Sequential()\n",
        "ann_model.add(Dense(25,activation='relu',kernel_initializer='he_normal',bias_initializer='ones',input_shape=(X_train.shape[1],1)))\n",
        "ann_model.add(Dropout(rate=0.2))\n",
        "ann_model.add(Dense(50,activation='relu',kernel_initializer='he_normal',bias_initializer='ones'))\n",
        "ann_model.add(Dropout(rate=0.2))\n",
        "ann_model.add(Dense(25,activation='relu',kernel_initializer='he_normal',bias_initializer='ones'))\n",
        "ann_model.add(Dense(1,activation='relu',kernel_initializer='he_normal',bias_initializer='ones'))\n",
        "\n",
        "# Checking what the model looks like:\n",
        "ann_model.summary()"
      ]
    },
    {
      "cell_type": "code",
      "execution_count": null,
      "metadata": {
        "id": "6L2jPlw9HDag"
      },
      "outputs": [],
      "source": [
        "# Training the model\n",
        "optimizer = keras.optimizers.SGD(learning_rate=0.03)\n",
        "loss_function = keras.losses.MeanSquaredError()\n",
        "ann_model.compile(optimizer=optimizer,loss=loss_function)"
      ]
    },
    {
      "cell_type": "code",
      "execution_count": null,
      "metadata": {
        "colab": {
          "base_uri": "https://localhost:8080/"
        },
        "id": "FQgOcW4-HFvV",
        "outputId": "0bc6b0bc-1953-4a93-f8bc-878b7d6cc853"
      },
      "outputs": [
        {
          "name": "stdout",
          "output_type": "stream",
          "text": [
            "Epoch 1/50\n",
            "168/168 [==============================] - 8s 10ms/step - loss: 1961897171615744.0000\n",
            "Epoch 2/50\n",
            "168/168 [==============================] - 1s 8ms/step - loss: 117930490593280.0000\n",
            "Epoch 3/50\n",
            "168/168 [==============================] - 1s 8ms/step - loss: 3727.8115\n",
            "Epoch 4/50\n",
            "168/168 [==============================] - 2s 9ms/step - loss: 3727.8115\n",
            "Epoch 5/50\n",
            "168/168 [==============================] - 2s 9ms/step - loss: 3727.8105\n",
            "Epoch 6/50\n",
            "168/168 [==============================] - 2s 9ms/step - loss: 3727.8098\n",
            "Epoch 7/50\n",
            "168/168 [==============================] - 1s 8ms/step - loss: 3727.8113\n",
            "Epoch 8/50\n",
            "168/168 [==============================] - 1s 7ms/step - loss: 3727.8101\n",
            "Epoch 9/50\n",
            "168/168 [==============================] - 1s 8ms/step - loss: 3727.8101\n",
            "Epoch 10/50\n",
            "168/168 [==============================] - 1s 8ms/step - loss: 3727.8115\n",
            "Epoch 11/50\n",
            "168/168 [==============================] - 2s 9ms/step - loss: 3727.8108\n",
            "Epoch 12/50\n",
            "168/168 [==============================] - 1s 8ms/step - loss: 3727.8113\n",
            "Epoch 13/50\n",
            "168/168 [==============================] - 1s 5ms/step - loss: 3727.8108\n",
            "Epoch 14/50\n",
            "168/168 [==============================] - 1s 4ms/step - loss: 3727.8108\n",
            "Epoch 15/50\n",
            "168/168 [==============================] - 1s 4ms/step - loss: 3727.8115\n",
            "Epoch 16/50\n",
            "168/168 [==============================] - 1s 4ms/step - loss: 3727.8079\n",
            "Epoch 17/50\n",
            "168/168 [==============================] - 1s 4ms/step - loss: 3727.8108\n",
            "Epoch 18/50\n",
            "168/168 [==============================] - 1s 4ms/step - loss: 3727.8113\n",
            "Epoch 19/50\n",
            "168/168 [==============================] - 1s 4ms/step - loss: 3727.8101\n",
            "Epoch 20/50\n",
            "168/168 [==============================] - 1s 4ms/step - loss: 3727.8108\n",
            "Epoch 21/50\n",
            "168/168 [==============================] - 1s 4ms/step - loss: 3727.8113\n",
            "Epoch 22/50\n",
            "168/168 [==============================] - 1s 4ms/step - loss: 3727.8093\n",
            "Epoch 23/50\n",
            "168/168 [==============================] - 1s 4ms/step - loss: 3727.8088\n",
            "Epoch 24/50\n",
            "168/168 [==============================] - 1s 4ms/step - loss: 3727.8113\n",
            "Epoch 25/50\n",
            "168/168 [==============================] - 1s 6ms/step - loss: 3727.8101\n",
            "Epoch 26/50\n",
            "168/168 [==============================] - 1s 6ms/step - loss: 3727.8105\n",
            "Epoch 27/50\n",
            "168/168 [==============================] - 1s 5ms/step - loss: 3727.8108\n",
            "Epoch 28/50\n",
            "168/168 [==============================] - 1s 4ms/step - loss: 3727.8115\n",
            "Epoch 29/50\n",
            "168/168 [==============================] - 1s 4ms/step - loss: 3727.8105\n",
            "Epoch 30/50\n",
            "168/168 [==============================] - 1s 4ms/step - loss: 3727.8101\n",
            "Epoch 31/50\n",
            "168/168 [==============================] - 1s 4ms/step - loss: 3727.8101\n",
            "Epoch 32/50\n",
            "168/168 [==============================] - 1s 4ms/step - loss: 3727.8098\n",
            "Epoch 33/50\n",
            "168/168 [==============================] - 1s 4ms/step - loss: 3727.8101\n",
            "Epoch 34/50\n",
            "168/168 [==============================] - 1s 4ms/step - loss: 3727.8105\n",
            "Epoch 35/50\n",
            "168/168 [==============================] - 1s 4ms/step - loss: 3727.8113\n",
            "Epoch 36/50\n",
            "168/168 [==============================] - 1s 4ms/step - loss: 3727.8101\n",
            "Epoch 37/50\n",
            "168/168 [==============================] - 1s 4ms/step - loss: 3727.8105\n",
            "Epoch 38/50\n",
            "168/168 [==============================] - 1s 4ms/step - loss: 3727.8101\n",
            "Epoch 39/50\n",
            "168/168 [==============================] - 1s 4ms/step - loss: 3727.8108\n",
            "Epoch 40/50\n",
            "168/168 [==============================] - 1s 4ms/step - loss: 3727.8101\n",
            "Epoch 41/50\n",
            "168/168 [==============================] - 1s 4ms/step - loss: 3727.8105\n",
            "Epoch 42/50\n",
            "168/168 [==============================] - 1s 6ms/step - loss: 3727.8105\n",
            "Epoch 43/50\n",
            "168/168 [==============================] - 1s 6ms/step - loss: 3727.8101\n",
            "Epoch 44/50\n",
            "168/168 [==============================] - 1s 6ms/step - loss: 3727.8101\n",
            "Epoch 45/50\n",
            "168/168 [==============================] - 1s 4ms/step - loss: 3727.8123\n",
            "Epoch 46/50\n",
            "168/168 [==============================] - 1s 4ms/step - loss: 3727.8113\n",
            "Epoch 47/50\n",
            "168/168 [==============================] - 1s 4ms/step - loss: 3727.8098\n",
            "Epoch 48/50\n",
            "168/168 [==============================] - 1s 4ms/step - loss: 3727.8113\n",
            "Epoch 49/50\n",
            "168/168 [==============================] - 1s 4ms/step - loss: 3727.8098\n",
            "Epoch 50/50\n",
            "168/168 [==============================] - 1s 4ms/step - loss: 3727.8101\n"
          ]
        }
      ],
      "source": [
        "# Model training\n",
        "history = ann_model.fit(X_train,y_train,batch_size=32,epochs=50,shuffle=True)"
      ]
    },
    {
      "cell_type": "code",
      "execution_count": null,
      "metadata": {
        "colab": {
          "base_uri": "https://localhost:8080/"
        },
        "id": "8O4MzobnHLKh",
        "outputId": "183d4704-e453-48f5-cd9f-b9ac5f916451"
      },
      "outputs": [
        {
          "name": "stdout",
          "output_type": "stream",
          "text": [
            "Training Loss in Dollars: $61.05579463567525\n"
          ]
        }
      ],
      "source": [
        "# What is the model performance\n",
        "training_loss = ann_model.evaluate(X_train,y_train,batch_size=32,verbose=0)\n",
        "\n",
        "# Note, the loss the squared difference between the truth and the prediction\n",
        "# hence the loss value is in dollars squared. To see how far off our model was,\n",
        "# we need to square root the loss.\n",
        "print(f'Training Loss in Dollars: ${np.sqrt(training_loss)}')"
      ]
    },
    {
      "cell_type": "code",
      "execution_count": null,
      "metadata": {
        "colab": {
          "base_uri": "https://localhost:8080/"
        },
        "id": "e7L2mmt5zOpZ",
        "outputId": "d1e23d00-5b2e-4725-ef98-106444676a6c"
      },
      "outputs": [
        {
          "name": "stdout",
          "output_type": "stream",
          "text": [
            "Testing Loss in Dollars: $59.29143173303479\n"
          ]
        }
      ],
      "source": [
        "# What is the model performance on the test set?\n",
        "testing_loss = ann_model.evaluate(X_test,y_test,batch_size=32,verbose=0)\n",
        "print(f'Testing Loss in Dollars: ${np.sqrt(testing_loss)}')"
      ]
    },
    {
      "cell_type": "markdown",
      "metadata": {
        "id": "lXVjNPcXd_b4"
      },
      "source": [
        "### Sequence Models\n",
        "\n",
        "We can solve this problem better by leveraging sequence models."
      ]
    },
    {
      "cell_type": "code",
      "execution_count": null,
      "metadata": {
        "id": "84rA_Hc9HN6Y"
      },
      "outputs": [],
      "source": [
        "# To leverage sequence models, we need to utilize sequence data\n",
        "# The current format of the data is one of a matrix, where each row is independent from each other.\n",
        "# We need to transform it into a sequence\n",
        "# Essentially, we need to make sure that each date has a sequence of past stock data that we can utilize for prediction\n",
        "# For this problem, we will utilize sequences of length 10, meaning each prediction will rely on the last 10 days worth of stock data.\n",
        "# If a date doesn't have 10 days worth of past stock data, we \"pad\" it. Remember in CNNs, we discussed how padding the image\n",
        "# means we add 0s all around the image.\n",
        "# In sequences, padding means we add the 0 vector until the sequence reaches the desired length (10).\n",
        "\n",
        "raw_sequence_data_X = []\n",
        "raw_sequence_data_Y = []\n",
        "data_list = stock_history.drop(['Volume','Dividends','Stock Splits'],axis=1).values\n",
        "# Iterating through each example in the stock data\n",
        "for i in range(len(data_list)):\n",
        "  sequence = [[0]*4] * 10 # creating a list of ten zeros\n",
        "\n",
        "  # Checking if there are 10 days worth of past stock data\n",
        "  if i < 10:\n",
        "    for x in range(i):\n",
        "      sequence[x] = list(data_list[x])\n",
        "  else:\n",
        "    index = 0\n",
        "    for x in range(i-10,i):\n",
        "      sequence[index] = list(data_list[x])\n",
        "      index += 1\n",
        "  raw_sequence_data_X.append(sequence)\n",
        "  raw_sequence_data_Y.append(data_list[i][3])"
      ]
    },
    {
      "cell_type": "code",
      "execution_count": null,
      "metadata": {
        "colab": {
          "base_uri": "https://localhost:8080/"
        },
        "id": "i0Kcj-ayHg6U",
        "outputId": "61f62d29-eabf-4636-a30f-b9bee50cc301"
      },
      "outputs": [
        {
          "data": {
            "text/plain": [
              "(6700, 10, 4)"
            ]
          },
          "execution_count": 13,
          "metadata": {},
          "output_type": "execute_result"
        }
      ],
      "source": [
        "# Changing the lists into numpy arrays\n",
        "sequence_X = np.array(raw_sequence_data_X)\n",
        "sequence_Y = np.array(raw_sequence_data_Y)\n",
        "\n",
        "# Checking the shape\n",
        "sequence_X.shape"
      ]
    },
    {
      "cell_type": "code",
      "execution_count": null,
      "metadata": {
        "id": "Xo6IexshHi22"
      },
      "outputs": [],
      "source": [
        "# Finally, we need to split this data into training and testing\n",
        "X_train, X_test, y_train, y_test = train_test_split(sequence_X,sequence_Y,test_size=0.2,random_state=42,shuffle=True)"
      ]
    },
    {
      "cell_type": "code",
      "execution_count": null,
      "metadata": {
        "colab": {
          "base_uri": "https://localhost:8080/"
        },
        "id": "1eilKSVLHkVc",
        "outputId": "c471a947-7939-4ed0-b08b-6dd112bb5a70"
      },
      "outputs": [
        {
          "name": "stdout",
          "output_type": "stream",
          "text": [
            "Model: \"sequential_1\"\n",
            "_________________________________________________________________\n",
            " Layer (type)                Output Shape              Param #   \n",
            "=================================================================\n",
            " simple_rnn (SimpleRNN)      (None, 50)                2750      \n",
            "                                                                 \n",
            " dense_4 (Dense)             (None, 25)                1275      \n",
            "                                                                 \n",
            " dense_5 (Dense)             (None, 1)                 26        \n",
            "                                                                 \n",
            "=================================================================\n",
            "Total params: 4051 (15.82 KB)\n",
            "Trainable params: 4051 (15.82 KB)\n",
            "Non-trainable params: 0 (0.00 Byte)\n",
            "_________________________________________________________________\n"
          ]
        }
      ],
      "source": [
        "# Implementing a basic RNN model for the project\n",
        "rnn_model = Sequential()\n",
        "\n",
        "# The 50 refers to how big we want our output vector, a_t, to be. In this case, we want it to be 50 dimensional.\n",
        "# You can think of each row as containing some kind of feature regarding the data.\n",
        "rnn_model.add(SimpleRNN(50,activation='tanh',bias_initializer='ones',return_sequences=False,input_shape=(X_train.shape[1],X_train.shape[2])))\n",
        "\n",
        "# At the end of our RNN, we will get a 50 dimensional vector as our output.\n",
        "# We need a single number so we will add an ANN on top of this RNN.\n",
        "rnn_model.add(Dense(25,activation='relu',kernel_initializer='he_normal',bias_initializer='ones'))\n",
        "rnn_model.add(Dense(1,activation='relu',kernel_initializer='he_normal',bias_initializer='ones'))\n",
        "\n",
        "# Checking what the model looks like:\n",
        "rnn_model.summary()"
      ]
    },
    {
      "cell_type": "code",
      "execution_count": null,
      "metadata": {
        "id": "bYGtsvc2HmGo"
      },
      "outputs": [],
      "source": [
        "# Training the model\n",
        "optimizer = keras.optimizers.SGD(learning_rate=0.001)\n",
        "loss_function = keras.losses.MeanSquaredError()\n",
        "rnn_model.compile(optimizer=optimizer,loss=loss_function)"
      ]
    },
    {
      "cell_type": "code",
      "execution_count": null,
      "metadata": {
        "colab": {
          "base_uri": "https://localhost:8080/"
        },
        "id": "lgwd5zO5HoaE",
        "outputId": "ed4755f8-0b5f-4db6-b987-5ba81d565e7d"
      },
      "outputs": [
        {
          "name": "stdout",
          "output_type": "stream",
          "text": [
            "Epoch 1/5\n",
            "168/168 [==============================] - 3s 8ms/step - loss: 3727.8101\n",
            "Epoch 2/5\n",
            "168/168 [==============================] - 1s 8ms/step - loss: 3727.8115\n",
            "Epoch 3/5\n",
            "168/168 [==============================] - 1s 8ms/step - loss: 3727.8101\n",
            "Epoch 4/5\n",
            "168/168 [==============================] - 1s 8ms/step - loss: 3727.8108\n",
            "Epoch 5/5\n",
            "168/168 [==============================] - 1s 8ms/step - loss: 3727.8105\n"
          ]
        }
      ],
      "source": [
        "# Model training\n",
        "history = rnn_model.fit(X_train,y_train,batch_size=32,epochs=5,shuffle=True)"
      ]
    },
    {
      "cell_type": "code",
      "execution_count": null,
      "metadata": {
        "colab": {
          "base_uri": "https://localhost:8080/"
        },
        "id": "fwzE4ZBLHqGS",
        "outputId": "9dfb98ba-6190-4caa-bf0b-62db87d6d2ea"
      },
      "outputs": [
        {
          "name": "stdout",
          "output_type": "stream",
          "text": [
            "Training Loss in Dollars: $61.05579463567525\n"
          ]
        }
      ],
      "source": [
        "# Evaluating the model\n",
        "training_loss = rnn_model.evaluate(X_train,y_train,batch_size=32,verbose=0)\n",
        "print(f'Training Loss in Dollars: ${np.sqrt(training_loss)}')"
      ]
    },
    {
      "cell_type": "code",
      "execution_count": null,
      "metadata": {
        "colab": {
          "base_uri": "https://localhost:8080/"
        },
        "id": "oerBRAd2Hsgd",
        "outputId": "e6c59187-8ded-4b0b-bd77-d3ca7f280495"
      },
      "outputs": [
        {
          "name": "stdout",
          "output_type": "stream",
          "text": [
            "Testing Loss in Dollars: $59.29143173303479\n"
          ]
        }
      ],
      "source": [
        "# Evaluating the model\n",
        "testing_loss = rnn_model.evaluate(X_test,y_test,batch_size=32,verbose=0)\n",
        "print(f'Testing Loss in Dollars: ${np.sqrt(testing_loss)}')"
      ]
    },
    {
      "cell_type": "markdown",
      "metadata": {
        "id": "EKVq_855eUjp"
      },
      "source": [
        "### Gated Recurrent Unit (GRU)\n"
      ]
    },
    {
      "cell_type": "code",
      "execution_count": null,
      "metadata": {
        "colab": {
          "base_uri": "https://localhost:8080/"
        },
        "id": "UUKHm5hXHycD",
        "outputId": "cd723177-c147-4781-ff0d-de3f73b29d37"
      },
      "outputs": [
        {
          "name": "stdout",
          "output_type": "stream",
          "text": [
            "Model: \"sequential_2\"\n",
            "_________________________________________________________________\n",
            " Layer (type)                Output Shape              Param #   \n",
            "=================================================================\n",
            " gru (GRU)                   (None, 50)                8400      \n",
            "                                                                 \n",
            " dense_6 (Dense)             (None, 25)                1275      \n",
            "                                                                 \n",
            " dense_7 (Dense)             (None, 1)                 26        \n",
            "                                                                 \n",
            "=================================================================\n",
            "Total params: 9701 (37.89 KB)\n",
            "Trainable params: 9701 (37.89 KB)\n",
            "Non-trainable params: 0 (0.00 Byte)\n",
            "_________________________________________________________________\n"
          ]
        }
      ],
      "source": [
        "# Building the GRU model\n",
        "gru_model = Sequential()\n",
        "gru_model.add(GRU(50,activation='tanh',bias_initializer='ones',return_sequences=False,input_shape=(X_train.shape[1],X_train.shape[2])))\n",
        "\n",
        "# At the end of our GRU, we will get a 40 dimensional vector as our output.\n",
        "# We need a single number so we will add an ANN on top of this RNN.\n",
        "gru_model.add(Dense(25,activation='relu',kernel_initializer='he_normal',bias_initializer='ones'))\n",
        "gru_model.add(Dense(1,activation='relu',kernel_initializer='he_normal',bias_initializer='ones'))\n",
        "\n",
        "# Checking what the model looks like:\n",
        "gru_model.summary()"
      ]
    },
    {
      "cell_type": "code",
      "execution_count": null,
      "metadata": {
        "id": "fALPSkWaH1B6"
      },
      "outputs": [],
      "source": [
        "# Training the model\n",
        "optimizer = keras.optimizers.SGD(learning_rate=0.001)\n",
        "loss_function = keras.losses.MeanSquaredError()\n",
        "gru_model.compile(optimizer=optimizer,loss=loss_function)"
      ]
    },
    {
      "cell_type": "code",
      "execution_count": null,
      "metadata": {
        "colab": {
          "base_uri": "https://localhost:8080/"
        },
        "id": "s6dT0w-l2FfU",
        "outputId": "deeb21d2-89dc-4907-cd46-1162c1e6d0e6"
      },
      "outputs": [
        {
          "name": "stdout",
          "output_type": "stream",
          "text": [
            "Epoch 1/5\n",
            "168/168 [==============================] - 3s 4ms/step - loss: 3727.8108\n",
            "Epoch 2/5\n",
            "168/168 [==============================] - 1s 4ms/step - loss: 3727.8101\n",
            "Epoch 3/5\n",
            "168/168 [==============================] - 1s 4ms/step - loss: 3727.8101\n",
            "Epoch 4/5\n",
            "168/168 [==============================] - 1s 4ms/step - loss: 3727.8108\n",
            "Epoch 5/5\n",
            "168/168 [==============================] - 1s 4ms/step - loss: 3727.8113\n"
          ]
        }
      ],
      "source": [
        "# Model training\n",
        "history = gru_model.fit(X_train,y_train,batch_size=32,epochs=5,shuffle=True)"
      ]
    },
    {
      "cell_type": "code",
      "execution_count": null,
      "metadata": {
        "colab": {
          "base_uri": "https://localhost:8080/"
        },
        "id": "i0fanfUj2HY3",
        "outputId": "0cbc5c11-e12b-4954-faf1-8e941ac56cd0"
      },
      "outputs": [
        {
          "name": "stdout",
          "output_type": "stream",
          "text": [
            "Training Loss in Dollars: $61.05579463567525\n"
          ]
        }
      ],
      "source": [
        "# Evaluating the model\n",
        "training_loss = gru_model.evaluate(X_train,y_train,batch_size=32,verbose=0)\n",
        "print(f'Training Loss in Dollars: ${np.sqrt(training_loss)}')"
      ]
    },
    {
      "cell_type": "code",
      "execution_count": null,
      "metadata": {
        "colab": {
          "base_uri": "https://localhost:8080/"
        },
        "id": "4H_TmI5V2KRY",
        "outputId": "fd3aa244-3181-4059-a0e1-154e868e70d0"
      },
      "outputs": [
        {
          "name": "stdout",
          "output_type": "stream",
          "text": [
            "Testing Loss in Dollars: $59.29143173303479\n"
          ]
        }
      ],
      "source": [
        "# Evaluating the model\n",
        "testing_loss = gru_model.evaluate(X_test,y_test,batch_size=32,verbose=0)\n",
        "print(f'Testing Loss in Dollars: ${np.sqrt(testing_loss)}')"
      ]
    },
    {
      "cell_type": "markdown",
      "metadata": {
        "id": "dwLmeoiD2XtZ"
      },
      "source": [
        "#### LSTM (Best)\n"
      ]
    },
    {
      "cell_type": "code",
      "execution_count": null,
      "metadata": {
        "colab": {
          "base_uri": "https://localhost:8080/"
        },
        "id": "2xvmqzPT2fhr",
        "outputId": "34afe52a-57f6-437a-9fbc-ae08bdca3c9d"
      },
      "outputs": [
        {
          "name": "stdout",
          "output_type": "stream",
          "text": [
            "Model: \"sequential_3\"\n",
            "_________________________________________________________________\n",
            " Layer (type)                Output Shape              Param #   \n",
            "=================================================================\n",
            " lstm (LSTM)                 (None, 30)                4200      \n",
            "                                                                 \n",
            " dense_8 (Dense)             (None, 25)                775       \n",
            "                                                                 \n",
            " dense_9 (Dense)             (None, 1)                 26        \n",
            "                                                                 \n",
            "=================================================================\n",
            "Total params: 5001 (19.54 KB)\n",
            "Trainable params: 5001 (19.54 KB)\n",
            "Non-trainable params: 0 (0.00 Byte)\n",
            "_________________________________________________________________\n"
          ]
        }
      ],
      "source": [
        "# Building the LSTM model\n",
        "lstm_model = Sequential()\n",
        "lstm_model.add(LSTM(30,activation='tanh',recurrent_activation='sigmoid',bias_initializer='ones',return_sequences=False,input_shape=(X_train.shape[1],X_train.shape[2])))\n",
        "\n",
        "# At the end of our LSTM, we will get a 50 dimensional vector as our output.\n",
        "# We need a single number so we will add an ANN on top of this RNN.\n",
        "lstm_model.add(Dense(25,activation='relu',kernel_initializer='he_normal',bias_initializer='ones'))\n",
        "lstm_model.add(Dense(1,activation='relu',kernel_initializer='he_normal',bias_initializer='ones'))\n",
        "\n",
        "# Checking what the model looks like:\n",
        "lstm_model.summary()"
      ]
    },
    {
      "cell_type": "code",
      "execution_count": null,
      "metadata": {
        "id": "6DImOt9w2lUv"
      },
      "outputs": [],
      "source": [
        "# Training the model\n",
        "optimizer = keras.optimizers.SGD(learning_rate=0.001)\n",
        "loss_function = keras.losses.MeanSquaredError()\n",
        "lstm_model.compile(optimizer=optimizer,loss=loss_function)"
      ]
    },
    {
      "cell_type": "code",
      "execution_count": null,
      "metadata": {
        "colab": {
          "base_uri": "https://localhost:8080/"
        },
        "id": "BeFMaIqc2lqz",
        "outputId": "25335a5c-d5c3-418f-f4e8-eecf9969ca6c"
      },
      "outputs": [
        {
          "name": "stdout",
          "output_type": "stream",
          "text": [
            "Epoch 1/5\n",
            "168/168 [==============================] - 2s 4ms/step - loss: 2397.5691\n",
            "Epoch 2/5\n",
            "168/168 [==============================] - 1s 4ms/step - loss: 2497.2488\n",
            "Epoch 3/5\n",
            "168/168 [==============================] - 1s 4ms/step - loss: 2489.1609\n",
            "Epoch 4/5\n",
            "168/168 [==============================] - 1s 4ms/step - loss: 2190.6714\n",
            "Epoch 5/5\n",
            "168/168 [==============================] - 1s 4ms/step - loss: 3246.0903\n"
          ]
        }
      ],
      "source": [
        "# Model training\n",
        "history = lstm_model.fit(X_train,y_train,batch_size=32,epochs=5,shuffle=True)"
      ]
    },
    {
      "cell_type": "code",
      "execution_count": null,
      "metadata": {
        "colab": {
          "base_uri": "https://localhost:8080/"
        },
        "id": "O0g3da1h2otB",
        "outputId": "8b68c574-d2e5-4784-c9c1-d3a7d2d377a9"
      },
      "outputs": [
        {
          "name": "stdout",
          "output_type": "stream",
          "text": [
            "Training Loss in Dollars: $55.059473792408106\n"
          ]
        }
      ],
      "source": [
        "# Evaluating the model\n",
        "training_loss = lstm_model.evaluate(X_train,y_train,batch_size=32,verbose=0)\n",
        "print(f'Training Loss in Dollars: ${np.sqrt(training_loss)}')"
      ]
    },
    {
      "cell_type": "code",
      "execution_count": null,
      "metadata": {
        "colab": {
          "base_uri": "https://localhost:8080/"
        },
        "id": "vq1s58D02rG3",
        "outputId": "767990a4-c879-4ce8-8195-fd4bab5bc430"
      },
      "outputs": [
        {
          "name": "stdout",
          "output_type": "stream",
          "text": [
            "Testing Loss in Dollars: $53.421159782430784\n"
          ]
        }
      ],
      "source": [
        "# Evaluating the model\n",
        "testing_loss = lstm_model.evaluate(X_test,y_test,batch_size=32,verbose=0)\n",
        "print(f'Testing Loss in Dollars: ${np.sqrt(testing_loss)}')"
      ]
    }
  ],
  "metadata": {
    "accelerator": "GPU",
    "colab": {
      "provenance": [],
      "authorship_tag": "ABX9TyOH54FFMDMXR/utkSERur17",
      "include_colab_link": true
    },
    "kernelspec": {
      "display_name": "Python 3",
      "name": "python3"
    },
    "language_info": {
      "name": "python"
    }
  },
  "nbformat": 4,
  "nbformat_minor": 0
}